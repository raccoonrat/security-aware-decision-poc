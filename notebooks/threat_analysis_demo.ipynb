# %% [markdown]
# # 威胁数据分析演示
# 展示威胁指标与决策结果的关系

# %%
import pandas as pd
import plotly.express as px
from src.core.decision_engine import DecisionEngine

# %%
# 初始化决策引擎
engine = DecisionEngine.load_from_config()

# %%
# 加载示例数据
threat_data = pd.read_json('../data/sample_threat.json')

# %%
# 生成决策结果
results = []
for _, row in threat_data.iterrows():
    decision = engine.evaluate(row.to_dict())
    results.append(decision)

# %%
# 可视化分析
fig = px.scatter_3d(
    x=threat_data['severity'],
    y=threat_data['frequency'],
    z=[r['confidence'] for r in results],
    color=[r['decision'] for r in results]
)
fig.show()
